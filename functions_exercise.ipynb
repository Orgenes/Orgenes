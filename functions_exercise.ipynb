{
  "nbformat": 4,
  "nbformat_minor": 0,
  "metadata": {
    "colab": {
      "provenance": [],
      "authorship_tag": "ABX9TyOW+JufpGmXGcpftOVEUBw3",
      "include_colab_link": true
    },
    "kernelspec": {
      "name": "python3",
      "display_name": "Python 3"
    },
    "language_info": {
      "name": "python"
    }
  },
  "cells": [
    {
      "cell_type": "markdown",
      "metadata": {
        "id": "view-in-github",
        "colab_type": "text"
      },
      "source": [
        "<a href=\"https://colab.research.google.com/github/Orgenes/Orgenes/blob/main/functions_exercise.ipynb\" target=\"_parent\"><img src=\"https://colab.research.google.com/assets/colab-badge.svg\" alt=\"Open In Colab\"/></a>"
      ]
    },
    {
      "cell_type": "code",
      "execution_count": null,
      "metadata": {
        "colab": {
          "base_uri": "https://localhost:8080/"
        },
        "id": "QhP9swdJE6W0",
        "outputId": "3cc5fedb-1534-4c4b-c0eb-add59b2523bd"
      },
      "outputs": [
        {
          "output_type": "stream",
          "name": "stdout",
          "text": [
            "{1, 2, 3, 4}\n",
            "{'Orgenes', 1, 2, 3, 4}\n"
          ]
        },
        {
          "output_type": "execute_result",
          "data": {
            "text/plain": [
              "set"
            ]
          },
          "metadata": {},
          "execution_count": 13
        }
      ],
      "source": [
        "a1={1,2,3,4,1,1,1,3,1,4}\n",
        "a2={1,2,3,4,'Orgenes'}\n",
        "print(a1)\n",
        "print(a2)\n",
        "type(a1)\n",
        "\n"
      ]
    },
    {
      "cell_type": "code",
      "source": [],
      "metadata": {
        "id": "FnGAyVHHbz7S"
      },
      "execution_count": null,
      "outputs": []
    },
    {
      "cell_type": "code",
      "source": [
        "x=5\n",
        "y=10\n",
        "print(x+y)"
      ],
      "metadata": {
        "colab": {
          "base_uri": "https://localhost:8080/"
        },
        "id": "jNt2wxw9Gk-h",
        "outputId": "fe0a79de-b18b-4af9-f641-b78888f00c36"
      },
      "execution_count": null,
      "outputs": [
        {
          "output_type": "stream",
          "name": "stdout",
          "text": [
            "15\n"
          ]
        }
      ]
    },
    {
      "cell_type": "code",
      "source": [
        "s1={1,2,1,1,2,3,1,4,\"Orgenes\"}\n",
        "s2={1,2,3,4,\"Orgenes\"}\n",
        "s1.intersection(s2)\n"
      ],
      "metadata": {
        "colab": {
          "base_uri": "https://localhost:8080/"
        },
        "id": "IjoirZ0fNTs6",
        "outputId": "c8bda4e7-52a6-4a44-aabb-ee6bac13b6f8"
      },
      "execution_count": null,
      "outputs": [
        {
          "output_type": "execute_result",
          "data": {
            "text/plain": [
              "{1, 2, 3, 4, 'Orgenes'}"
            ]
          },
          "metadata": {},
          "execution_count": 10
        }
      ]
    },
    {
      "cell_type": "code",
      "source": [
        "\n"
      ],
      "metadata": {
        "id": "AWPBxWQhO2pn"
      },
      "execution_count": null,
      "outputs": []
    },
    {
      "cell_type": "code",
      "source": [
        "s1={1,2,1,1,2,3,1,4,\"Orgenes\"}\n",
        "s2={1,2,3,4,6,7,8}\n",
        "s1.union(s2)\n"
      ],
      "metadata": {
        "colab": {
          "base_uri": "https://localhost:8080/"
        },
        "outputId": "b0ce3083-6682-4f49-c076-18dd5dba7317",
        "id": "NtTVlzeaPe2w"
      },
      "execution_count": null,
      "outputs": [
        {
          "output_type": "execute_result",
          "data": {
            "text/plain": [
              "{1, 2, 3, 4, 6, 7, 8, 'Orgenes'}"
            ]
          },
          "metadata": {},
          "execution_count": 12
        }
      ]
    },
    {
      "cell_type": "code",
      "source": [
        "OL_info = {\"name\":\"orgenes\", 'DOB':1960, 'sex':'male', 'residence':'Arusha'}\n",
        "DOB_value==OL_info['DOB']\n",
        "type(OL_info)\n",
        "print(DOB_value)\n",
        "OL_Age=2025-DOB_value\n",
        "print(OL_Age)"
      ],
      "metadata": {
        "colab": {
          "base_uri": "https://localhost:8080/"
        },
        "id": "uuYIHQRyQfNk",
        "outputId": "c5110d69-aa1b-4296-edf6-d893f860515a"
      },
      "execution_count": null,
      "outputs": [
        {
          "output_type": "stream",
          "name": "stdout",
          "text": [
            "1960\n",
            "65\n"
          ]
        }
      ]
    },
    {
      "cell_type": "code",
      "source": [
        "a=(1)\n",
        "b=(1.5)\n",
        "c=('Orgenes')\n",
        "d=(1+1j)\n",
        "print(type(a))\n",
        "print(type(b))\n",
        "print(type(c))\n",
        "print(type(d))\n",
        "print(type(d))"
      ],
      "metadata": {
        "colab": {
          "base_uri": "https://localhost:8080/"
        },
        "id": "SjukEbIAd3sD",
        "outputId": "302501eb-ebbd-4ab1-b6d5-0d4ab7f3bda4"
      },
      "execution_count": null,
      "outputs": [
        {
          "output_type": "stream",
          "name": "stdout",
          "text": [
            "<class 'int'>\n",
            "<class 'float'>\n",
            "<class 'str'>\n",
            "<class 'complex'>\n",
            "<class 'complex'>\n"
          ]
        }
      ]
    },
    {
      "cell_type": "code",
      "source": [
        "t=(10,20,30,40,50,60,70)\n",
        "print(t[-4])\n",
        "\n",
        "\n"
      ],
      "metadata": {
        "colab": {
          "base_uri": "https://localhost:8080/"
        },
        "id": "nm5Y25iMoL4e",
        "outputId": "4f14fe70-0579-42a3-ef69-99b20e84f414"
      },
      "execution_count": null,
      "outputs": [
        {
          "output_type": "stream",
          "name": "stdout",
          "text": [
            "40\n"
          ]
        }
      ]
    },
    {
      "cell_type": "code",
      "source": [
        "t1=(1,2,3,4,5,4,2,1,1,2,2,2,5,7,8,9)\n",
        "print(t1.count(1))\n",
        "print(t1.count(2))\n"
      ],
      "metadata": {
        "colab": {
          "base_uri": "https://localhost:8080/"
        },
        "id": "IYbf9hQZvtoq",
        "outputId": "f54eefd2-537f-484a-b0b3-083d97aefa49"
      },
      "execution_count": null,
      "outputs": [
        {
          "output_type": "stream",
          "name": "stdout",
          "text": [
            "3\n",
            "5\n"
          ]
        }
      ]
    },
    {
      "cell_type": "code",
      "source": [
        "#nested if\n",
        "Age=3\n",
        "diagnosis=\"malaria\"\n",
        "temp=38.5\n",
        "if Age<5:\n",
        "  if temp>37 and diagnosis==\"malaria\":\n",
        "    print(\"very_sick_child_require_urgent_treatment\")\n",
        "  elif temp<=36.5:\n",
        "    print(\"uncomplicated_malaria\")"
      ],
      "metadata": {
        "id": "0BJCsZW_b5ev",
        "outputId": "1fb08177-77df-4fc2-b409-22b8adc48eb6",
        "colab": {
          "base_uri": "https://localhost:8080/"
        }
      },
      "execution_count": null,
      "outputs": [
        {
          "output_type": "stream",
          "name": "stdout",
          "text": [
            "very_sick_child_require_urgent_treatment\n"
          ]
        }
      ]
    },
    {
      "cell_type": "code",
      "source": [
        "#addition function taking two numbers as arguments and return their sum\n",
        "def add(x, y):\n",
        "  output=f\"Addition of {x} and {y} is {x+y}\"\n",
        "  return output\n",
        "\n",
        "print(add(20,30))\n",
        "\n",
        "\n"
      ],
      "metadata": {
        "id": "7Hh0cbE0eF_F",
        "outputId": "a4fa8ffb-cb26-4216-f4c7-b4fb50b7864a",
        "colab": {
          "base_uri": "https://localhost:8080/"
        }
      },
      "execution_count": 8,
      "outputs": [
        {
          "output_type": "stream",
          "name": "stdout",
          "text": [
            "Addition of 20 and 30 is 50\n"
          ]
        }
      ]
    },
    {
      "cell_type": "code",
      "source": [
        "#Multiplication function taking two  numbers as arguments and return their product\n",
        "def multiply(x, y):\n",
        "  output=f\"Multiplication of {x} and {y} is {x*y}\"\n",
        "  return output\n",
        "\n",
        "print(multiply(20,30))"
      ],
      "metadata": {
        "id": "hrUJrONVRB-P",
        "outputId": "7ea04212-c3bf-4316-c974-940010c8c4d5",
        "colab": {
          "base_uri": "https://localhost:8080/"
        }
      },
      "execution_count": 9,
      "outputs": [
        {
          "output_type": "stream",
          "name": "stdout",
          "text": [
            "Multiplication of 20 and 30 is 600\n"
          ]
        }
      ]
    },
    {
      "cell_type": "code",
      "source": [
        "#factorial function taking positive integer as an argument and returns its factorial\n",
        "def factorial(x):\n",
        "  if x==1:\n",
        "    return 1\n",
        "  else:\n",
        "    return x*factorial(x-1)\n",
        "\n",
        "print(factorial(5))"
      ],
      "metadata": {
        "colab": {
          "base_uri": "https://localhost:8080/"
        },
        "id": "yI4pRYFdXArq",
        "outputId": "fc94a104-5723-41f7-9bb6-cbea5a2e3c1b"
      },
      "execution_count": 15,
      "outputs": [
        {
          "output_type": "stream",
          "name": "stdout",
          "text": [
            "120\n"
          ]
        }
      ]
    },
    {
      "cell_type": "code",
      "source": [
        "#factorial function taking positive integer as an argument and returns its factorial\n",
        "def factorial(x):\n",
        "  output=1         #initializa out put to 1\n",
        "  for i in range(1,x+1): #include x in the range\n",
        "    output=output*i\n",
        "  return f\"Factorial of {x} is {output}\" #moved the formated string to the return\n",
        "\n",
        "print(factorial(4))\n"
      ],
      "metadata": {
        "id": "z2txHMxBYBO4",
        "outputId": "d5509424-ab48-4a90-dd1a-dc8c3841cb5b",
        "colab": {
          "base_uri": "https://localhost:8080/"
        }
      },
      "execution_count": 18,
      "outputs": [
        {
          "output_type": "stream",
          "name": "stdout",
          "text": [
            "Factorial of 4 is 24\n"
          ]
        }
      ]
    },
    {
      "cell_type": "code",
      "source": [
        "#Even or Odd function takin integer as an argument and returns even or odd\n",
        "def even_or_odd(x):\n",
        "  if (x % 2) == 0:\n",
        "    print (\"Even\")\n",
        "  else:\n",
        "    print (\"Odd\")\n",
        "\n",
        "    print (even_or_odd(14))\n"
      ],
      "metadata": {
        "id": "aoufO-n0azu3"
      },
      "execution_count": 26,
      "outputs": []
    }
  ]
}