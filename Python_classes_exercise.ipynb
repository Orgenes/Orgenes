{
  "nbformat": 4,
  "nbformat_minor": 0,
  "metadata": {
    "colab": {
      "provenance": [],
      "authorship_tag": "ABX9TyMHyWqQAnfKm74r5qWCAiTM",
      "include_colab_link": true
    },
    "kernelspec": {
      "name": "python3",
      "display_name": "Python 3"
    },
    "language_info": {
      "name": "python"
    }
  },
  "cells": [
    {
      "cell_type": "markdown",
      "metadata": {
        "id": "view-in-github",
        "colab_type": "text"
      },
      "source": [
        "<a href=\"https://colab.research.google.com/github/Orgenes/Orgenes/blob/main/Python_classes_exercise.ipynb\" target=\"_parent\"><img src=\"https://colab.research.google.com/assets/colab-badge.svg\" alt=\"Open In Colab\"/></a>"
      ]
    },
    {
      "cell_type": "code",
      "execution_count": 6,
      "metadata": {
        "colab": {
          "base_uri": "https://localhost:8080/",
          "height": 0
        },
        "id": "kFkcguhzRvvV",
        "outputId": "237764c4-fab3-4f50-d9c5-6072e9561452"
      },
      "outputs": [
        {
          "output_type": "stream",
          "name": "stdout",
          "text": [
            "The furniture is Dining_table and is made of Wood with colour Mahogany\n"
          ]
        }
      ],
      "source": [
        "#Creating a class of my own\n",
        "class House_furniture:\n",
        "  def __init__(self): #self is temporary variable which stores memory locaton of object\n",
        "    self.variety=\"Dining_table\"\n",
        "    self.material=\"Wood\"\n",
        "    self.colour=\"Mahogany\"\n",
        "  def display(self): #method or function\n",
        "    print(f\"The furniture is {self.variety} and is made of {self.material} with colour {self.colour}\")\n",
        "  furniture=House_furniture() #creates an object (instance) of House_furniture class\n",
        "  furniture.display() # display the object"
      ]
    },
    {
      "cell_type": "code",
      "source": [],
      "metadata": {
        "id": "f4JS2rieZZNt"
      },
      "execution_count": null,
      "outputs": []
    },
    {
      "cell_type": "code",
      "execution_count": 22,
      "metadata": {
        "colab": {
          "base_uri": "https://localhost:8080/"
        },
        "outputId": "fb6f8fb4-12e6-4341-88c5-e07933bbb131",
        "id": "qZzg_oZxaTjR"
      },
      "outputs": [
        {
          "output_type": "stream",
          "name": "stdout",
          "text": [
            "The furniture is Coffee_table and is made of Glass with Transparent colour\n"
          ]
        }
      ],
      "source": [
        "#Creating a class of my own\n",
        "class House_furniture:\n",
        "  def __init__(self):\n",
        "    self.variety=\"Coffee_table\"\n",
        "    self.material=\"Glass\"\n",
        "    self.colour=\"Transparent\"\n",
        "  def display(self):\n",
        "    print(f\"The furniture is {self.variety} and is made of {self.material} with {self.colour} colour\")\n",
        "  furniture=House_furniture()\n",
        "  furniture.display()"
      ]
    },
    {
      "cell_type": "code",
      "execution_count": 16,
      "metadata": {
        "colab": {
          "base_uri": "https://localhost:8080/"
        },
        "outputId": "bed40047-fb0b-44c3-ca75-f5c31da42fb5",
        "id": "zPd0SWlVaMQq"
      },
      "outputs": [
        {
          "output_type": "stream",
          "name": "stdout",
          "text": [
            "The furniture is chair_1 and is made of Wood with colour Mahogany\n"
          ]
        }
      ],
      "source": [
        "class House_furniture:\n",
        "  def __init__(self):\n",
        "    self.variety=\"chair_1\"\n",
        "    self.material=\"Wood\"\n",
        "    self.colour=\"Mahogany\"\n",
        "  def display(self):\n",
        "    print(f\"The furniture is {self.variety} and is made of {self.material} with colour {self.colour}\")\n",
        "furniture=House_furniture()\n",
        "furniture.display()"
      ]
    },
    {
      "cell_type": "code",
      "source": [
        "#Class inheritance\n",
        "\n",
        "class Mom:\n",
        "    def __init__(self):\n",
        "        self.eyes=\"black\"\n",
        "        self.hair=\"brown\"\n",
        "    def display(self):\n",
        "        print(f\"Mom has {self.eyes} eyes and {self.hair} hair\")\n",
        "    M=Mom()\n",
        "    M.display()"
      ],
      "metadata": {
        "colab": {
          "base_uri": "https://localhost:8080/"
        },
        "id": "rnqKsDOngJAG",
        "outputId": "61c07679-d60b-4c94-e550-9f347c4bac58"
      },
      "execution_count": 27,
      "outputs": [
        {
          "output_type": "stream",
          "name": "stdout",
          "text": [
            "Mom has black eyes and brown hair\n"
          ]
        }
      ]
    },
    {
      "cell_type": "code",
      "source": [
        "#child_1 class\n",
        "class Child_1:\n",
        "    def __init__(self):\n",
        "        self.eyes=\"blue\"\n",
        "        self.hair=\"brown\"\n",
        "        self.voice=\"sweet\"\n",
        "    def display(self):\n",
        "        print(f\"The Child has {self.eyes} eyes, {self.hair} hair and {self.voice} voice\")\n",
        "    ch1=Child_1()\n",
        "    display(ch1)"
      ],
      "metadata": {
        "colab": {
          "base_uri": "https://localhost:8080/"
        },
        "id": "k1b0m1RNjyPb",
        "outputId": "afb16e6c-9d35-45ca-bf1b-d49e002c4a7f"
      },
      "execution_count": 42,
      "outputs": [
        {
          "output_type": "stream",
          "name": "stdout",
          "text": [
            "The Child has blue eyes, brown hair and sweet voice\n"
          ]
        }
      ]
    },
    {
      "cell_type": "code",
      "source": [
        "#Child_2 class inheritance from Child_1 class\n",
        "class Child_2(Child_1):\n",
        "    def __init__(self):\n",
        "        Child_1.__init__(self)\n",
        "ch2=Child_2()\n",
        "ch2.display()"
      ],
      "metadata": {
        "colab": {
          "base_uri": "https://localhost:8080/"
        },
        "id": "49_QsZv5qrhI",
        "outputId": "dca66850-d2c8-49e8-8c6b-661d9473bd2d"
      },
      "execution_count": 44,
      "outputs": [
        {
          "output_type": "stream",
          "name": "stdout",
          "text": [
            "The Child has blue eyes, brown hair and sweet voice\n"
          ]
        }
      ]
    },
    {
      "cell_type": "code",
      "source": [
        "#Grand_Child inheritence from Mom class\n",
        "class Grand_Child(Mom):\n",
        "    def __init__(self):\n",
        "        Mom.__init__(self)\n",
        "    def display(self):\n",
        "        print(f\"The Grandchild has {self.eyes} eyes and {self.hair} hair\")\n",
        "gch=Grand_Child()\n",
        "gch.display()"
      ],
      "metadata": {
        "colab": {
          "base_uri": "https://localhost:8080/"
        },
        "id": "pF9wXcoRslTu",
        "outputId": "7bb22b0d-8039-4c21-9aa2-8dffc93e33f7"
      },
      "execution_count": 46,
      "outputs": [
        {
          "output_type": "stream",
          "name": "stdout",
          "text": [
            "The Grandchild has black eyes and brown hair\n"
          ]
        }
      ]
    },
    {
      "cell_type": "code",
      "source": [
        "class Dad:\n",
        "    def __init__(self):\n",
        "        self.eyes=\"pink\"\n",
        "        self.hair=\"green\"\n",
        "    def display(self):\n",
        "        print(f\"Dad has {self.eyes} eyes and {self.hair} hair\")\n",
        "Dada=Dad()\n",
        "Dada.display()"
      ],
      "metadata": {
        "colab": {
          "base_uri": "https://localhost:8080/"
        },
        "id": "lngrw_Uwxy7g",
        "outputId": "7981c182-c600-42b1-f7a9-b38e0e1d1a33"
      },
      "execution_count": 48,
      "outputs": [
        {
          "output_type": "stream",
          "name": "stdout",
          "text": [
            "Dad has pink eyes and green hair\n"
          ]
        }
      ]
    },
    {
      "cell_type": "code",
      "source": [
        "#multiple inheritance - I dont get multiple inheritance eg eyes from Dad and hair from Mom\n",
        "class Child_3(Dad, Mom):\n",
        "  def __init__(self):\n",
        "    Dad.__init__(self)\n",
        "    Mom.__init__(self)\n",
        "    self.eyes=self.eyes\n",
        "    self.hair=self.hair\n",
        "  def display(self):\n",
        "    print(f\"Child 3 has {self.eyes} eyes and {self.hair} hair\")\n",
        "ch3=Child_3()\n",
        "ch3.display()"
      ],
      "metadata": {
        "colab": {
          "base_uri": "https://localhost:8080/"
        },
        "id": "dF7QKJGyysF3",
        "outputId": "0b7f85c0-02b3-4996-fac0-cce9cd40b76f"
      },
      "execution_count": 79,
      "outputs": [
        {
          "output_type": "stream",
          "name": "stdout",
          "text": [
            "Child 3 has black eyes and brown hair\n"
          ]
        }
      ]
    },
    {
      "cell_type": "markdown",
      "source": [],
      "metadata": {
        "id": "HPxoHryO-zMs"
      }
    }
  ]
}